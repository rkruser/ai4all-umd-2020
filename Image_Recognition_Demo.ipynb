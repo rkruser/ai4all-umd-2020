{
  "nbformat": 4,
  "nbformat_minor": 0,
  "metadata": {
    "colab": {
      "name": "Image Recognition Demo",
      "provenance": [],
      "collapsed_sections": [],
      "mount_file_id": "19aB7x9YPEauBfvyWAJCbLh8ECpeYKKcc",
      "authorship_tag": "ABX9TyP+mWMkF9OisXn8n0LImuuQ",
      "include_colab_link": true
    },
    "kernelspec": {
      "name": "python3",
      "display_name": "Python 3"
    }
  },
  "cells": [
    {
      "cell_type": "markdown",
      "metadata": {
        "id": "view-in-github",
        "colab_type": "text"
      },
      "source": [
        "<a href=\"https://colab.research.google.com/github/rkruser/ai4all-umd-2020/blob/master/Image_Recognition_Demo.ipynb\" target=\"_parent\"><img src=\"https://colab.research.google.com/assets/colab-badge.svg\" alt=\"Open In Colab\"/></a>"
      ]
    },
    {
      "cell_type": "code",
      "metadata": {
        "id": "DfKldzQk0pk4",
        "colab_type": "code",
        "colab": {
          "base_uri": "https://localhost:8080/",
          "height": 459
        },
        "outputId": "c33c649b-9dff-4a3c-8b75-3f5bd41986a6"
      },
      "source": [
        "!pip install flask-ngrok\n",
        "!git clone https://github.com/rkruser/ai4all-umd-2020.git #https seems to work, but not ssh\n",
        "%cd ai4all-umd-2020"
      ],
      "execution_count": 1,
      "outputs": [
        {
          "output_type": "stream",
          "text": [
            "Collecting flask-ngrok\n",
            "  Downloading https://files.pythonhosted.org/packages/af/6c/f54cb686ad1129e27d125d182f90f52b32f284e6c8df58c1bae54fa1adbc/flask_ngrok-0.0.25-py3-none-any.whl\n",
            "Requirement already satisfied: Flask>=0.8 in /usr/local/lib/python3.6/dist-packages (from flask-ngrok) (1.1.2)\n",
            "Requirement already satisfied: requests in /usr/local/lib/python3.6/dist-packages (from flask-ngrok) (2.23.0)\n",
            "Requirement already satisfied: click>=5.1 in /usr/local/lib/python3.6/dist-packages (from Flask>=0.8->flask-ngrok) (7.1.2)\n",
            "Requirement already satisfied: itsdangerous>=0.24 in /usr/local/lib/python3.6/dist-packages (from Flask>=0.8->flask-ngrok) (1.1.0)\n",
            "Requirement already satisfied: Werkzeug>=0.15 in /usr/local/lib/python3.6/dist-packages (from Flask>=0.8->flask-ngrok) (1.0.1)\n",
            "Requirement already satisfied: Jinja2>=2.10.1 in /usr/local/lib/python3.6/dist-packages (from Flask>=0.8->flask-ngrok) (2.11.2)\n",
            "Requirement already satisfied: idna<3,>=2.5 in /usr/local/lib/python3.6/dist-packages (from requests->flask-ngrok) (2.10)\n",
            "Requirement already satisfied: chardet<4,>=3.0.2 in /usr/local/lib/python3.6/dist-packages (from requests->flask-ngrok) (3.0.4)\n",
            "Requirement already satisfied: urllib3!=1.25.0,!=1.25.1,<1.26,>=1.21.1 in /usr/local/lib/python3.6/dist-packages (from requests->flask-ngrok) (1.24.3)\n",
            "Requirement already satisfied: certifi>=2017.4.17 in /usr/local/lib/python3.6/dist-packages (from requests->flask-ngrok) (2020.6.20)\n",
            "Requirement already satisfied: MarkupSafe>=0.23 in /usr/local/lib/python3.6/dist-packages (from Jinja2>=2.10.1->Flask>=0.8->flask-ngrok) (1.1.1)\n",
            "Installing collected packages: flask-ngrok\n",
            "Successfully installed flask-ngrok-0.0.25\n",
            "Cloning into 'ai4all-umd-2020'...\n",
            "remote: Enumerating objects: 234, done.\u001b[K\n",
            "remote: Counting objects: 100% (234/234), done.\u001b[K\n",
            "remote: Compressing objects: 100% (192/192), done.\u001b[K\n",
            "remote: Total 234 (delta 111), reused 116 (delta 35), pack-reused 0\u001b[K\n",
            "Receiving objects: 100% (234/234), 1.46 MiB | 12.97 MiB/s, done.\n",
            "Resolving deltas: 100% (111/111), done.\n",
            "/content/ai4all-umd-2020\n"
          ],
          "name": "stdout"
        }
      ]
    },
    {
      "cell_type": "code",
      "metadata": {
        "id": "tFzTR5yc02Dz",
        "colab_type": "code",
        "colab": {
          "base_uri": "https://localhost:8080/",
          "height": 92
        },
        "outputId": "d647ecf5-effa-4577-be37-77a532b1a1f2"
      },
      "source": [
        "!mkdir data\n",
        "!mkdir data/leafsnap\n",
        "!curl -o ./data/leafsnap/leafsnap.tar http://leafsnap.com/static/dataset/leafsnap-dataset.tar\n",
        "!tar -xvf ./data/leafsnap/leafsnap.tar -C ./data/leafsnap > /dev/null"
      ],
      "execution_count": 3,
      "outputs": [
        {
          "output_type": "stream",
          "text": [
            "  % Total    % Received % Xferd  Average Speed   Time    Time     Time  Current\n",
            "                                 Dload  Upload   Total   Spent    Left  Speed\n",
            "100  976M  100  976M    0     0  50.2M      0  0:00:19  0:00:19 --:--:-- 70.6M\n"
          ],
          "name": "stdout"
        }
      ]
    },
    {
      "cell_type": "code",
      "metadata": {
        "id": "w9Z-kRiS78k2",
        "colab_type": "code",
        "colab": {
          "base_uri": "https://localhost:8080/",
          "height": 334
        },
        "outputId": "40779113-0ba8-418a-a6de-18d8cf433b81"
      },
      "source": [
        "from portia import portiaImP\n",
        "from PIL import Image\n",
        "!mkdir webims\n",
        "!curl -o ./webims/image.jpg https://www.peta.org/wp-content/uploads/2014/01/goldfish-sxc.hu_.jpg\n",
        "#im = Image.open('./webims/image.jpg')\n",
        "im = Image.open('/content/ai4all-umd-2020/data/leafsnap/dataset/images/field/abies_concolor/12995307070714.jpg')\n",
        "\n",
        "display(portiaImP(im))"
      ],
      "execution_count": 4,
      "outputs": [
        {
          "output_type": "stream",
          "text": [
            "mkdir: cannot create directory ‘webims’: File exists\n",
            "  % Total    % Received % Xferd  Average Speed   Time    Time     Time  Current\n",
            "                                 Dload  Upload   Total   Spent    Left  Speed\n",
            "100 12626  100 12626    0     0  86479      0 --:--:-- --:--:-- --:--:-- 86479\n"
          ],
          "name": "stdout"
        },
        {
          "output_type": "display_data",
          "data": {
            "image/png": "[encoded data removed]",
            "text/plain": [
              "<PIL.Image.Image image mode=RGB size=224x224 at 0x7F2EDD69F978>"
            ]
          },
          "metadata": {
            "tags": []
          }
        }
      ]
    },
    {
      "cell_type": "code",
      "metadata": {
        "id": "PD003WpG789x",
        "colab_type": "code",
        "colab": {
          "base_uri": "https://localhost:8080/",
          "height": 117
        },
        "outputId": "571ab1fd-30f6-4da9-bd3c-d9f8c4541cf1"
      },
      "source": [
        "from emily import emily_function\n",
        "downsize = transforms.Resize(100)\n",
        "display(downsize(emily_function(im)))"
      ],
      "execution_count": 9,
      "outputs": [
        {
          "output_type": "display_data",
          "data": {
            "image/png": "[encoded data removed]",
            "text/plain": [
              "<PIL.Image.Image image mode=RGB size=134x100 at 0x7F2EDD09CCC0>"
            ]
          },
          "metadata": {
            "tags": []
          }
        }
      ]
    },
    {
      "cell_type": "code",
      "metadata": {
        "id": "Dl3PHXuG79T8",
        "colab_type": "code",
        "colab": {
          "base_uri": "https://localhost:8080/",
          "height": 117
        },
        "outputId": "ec677c0e-2aa8-496b-dc75-e4da263ea815"
      },
      "source": [
        "from Kemka import kemka_function\n",
        "display(downsize(kemka_function(im)))"
      ],
      "execution_count": 10,
      "outputs": [
        {
          "output_type": "display_data",
          "data": {
            "image/png": "[encoded data removed]",
            "text/plain": [
              "<PIL.Image.Image image mode=L size=100x100 at 0x7F2EDD0F2198>"
            ]
          },
          "metadata": {
            "tags": []
          }
        }
      ]
    },
    {
      "cell_type": "code",
      "metadata": {
        "id": "FWJYFmFR79nM",
        "colab_type": "code",
        "colab": {
          "base_uri": "https://localhost:8080/",
          "height": 117
        },
        "outputId": "c28e5257-63e6-4c8e-b528-d0feba5d3002"
      },
      "source": [
        "from Anu import Anu_function\n",
        "display(downsize(Anu_function(im)))"
      ],
      "execution_count": 13,
      "outputs": [
        {
          "output_type": "display_data",
          "data": {
            "image/png": "[encoded data removed]",
            "text/plain": [
              "<PIL.Image.Image image mode=L size=134x100 at 0x7F2EDD0D9358>"
            ]
          },
          "metadata": {
            "tags": []
          }
        }
      ]
    },
    {
      "cell_type": "code",
      "metadata": {
        "id": "YAaAgXHE798h",
        "colab_type": "code",
        "colab": {
          "base_uri": "https://localhost:8080/",
          "height": 117
        },
        "outputId": "56754dd5-ffa9-442e-90d9-e91f61501032"
      },
      "source": [
        "from Unity import Unity_function\n",
        "display(downsize(Unity_function(im)))"
      ],
      "execution_count": 14,
      "outputs": [
        {
          "output_type": "display_data",
          "data": {
            "image/png": "[encoded data removed]",
            "text/plain": [
              "<PIL.Image.Image image mode=RGB size=134x100 at 0x7F2EDD0D9C50>"
            ]
          },
          "metadata": {
            "tags": []
          }
        }
      ]
    },
    {
      "cell_type": "code",
      "metadata": {
        "id": "qRR20fqV7-bi",
        "colab_type": "code",
        "colab": {
          "base_uri": "https://localhost:8080/",
          "height": 117
        },
        "outputId": "f6330052-0e5c-47ab-83d6-e85aeba485a2"
      },
      "source": [
        "import shubham\n",
        "import importlib\n",
        "shubham=importlib.reload(shubham)\n",
        "#from shubham import shubham_function\n",
        "display(downsize(shubham.shubham_function(im)))"
      ],
      "execution_count": 18,
      "outputs": [
        {
          "output_type": "display_data",
          "data": {
            "image/png": "[encoded data removed]",
            "text/plain": [
              "<PIL.Image.Image image mode=RGB size=134x100 at 0x7F2EDC2054E0>"
            ]
          },
          "metadata": {
            "tags": []
          }
        }
      ]
    },
    {
      "cell_type": "markdown",
      "metadata": {
        "id": "-SFwezEm1C2N",
        "colab_type": "text"
      },
      "source": [
        "**To get your neural network, follow this drive link** to download \n",
        " [your neural network](https://drive.google.com/file/d/1YH70L-pESc8m4N-vgPjVk6YbnUIEUo6k/view?usp=sharing) trained on leafsnap. (The resnet18 model is not necessary; we are loading a separate resnet50 pretrained on [ImageNet](http://www.image-net.org/)). Save the file on your computer, then manually upload it `ai4all-umd-2020/models/your_model` by using the folder interface on the left side of the Colab. (Expand the desired folder, then click on the three dots to the right of its name, and then click \"upload\").\n",
        "\n",
        "**Uploading may take a minute. The bottom left corner of Colab should show upload progress.** You may get code errors if you try to run cells before the upload is complete.\n",
        "\n",
        "**Note that you will have to re-upload if Colab decides to obliterate your file system.** Manual uploads are the simplest solution for right now. The colab will not be wiped clean too often if you are active on it."
      ]
    },
    {
      "cell_type": "markdown",
      "metadata": {
        "id": "AyuQ7stc1yuE",
        "colab_type": "text"
      },
      "source": [
        "**To run the demo,** run the following code cells in order:"
      ]
    },
    {
      "cell_type": "code",
      "metadata": {
        "id": "kaIb-Apv1DUn",
        "colab_type": "code",
        "colab": {
          "base_uri": "https://localhost:8080/",
          "height": 508
        },
        "outputId": "b3cf3430-8061-4563-838c-7ec47c1a0b3b"
      },
      "source": [
        "# Run resnet50 pretrained on imagenet, your neural network model,\n",
        "#  and all student image transformations\n",
        "#  Collect results in a dictionary\n",
        "import traceback\n",
        "from flask import Flask, jsonify, request, render_template\n",
        "from flask_ngrok import run_with_ngrok\n",
        "\n",
        "#from utils import read_file, transform_image, get_topk, model  #render_prediction\n",
        "\n",
        "app = Flask(__name__)\n",
        "\n",
        "import os\n",
        "import json\n",
        "import torch\n",
        "import torchvision.transforms as transforms\n",
        "import torchvision.models as models\n",
        "import numpy as np\n",
        "\n",
        "import project_network as pnet\n",
        "import project_train as ptrain\n",
        "import data_loader\n",
        "\n",
        "from PIL import Image\n",
        "import requests\n",
        "from io import BytesIO\n",
        "import base64\n",
        "\n",
        "from data_loader import ClassLoader\n",
        "\n",
        "def read_file(upload=None, url=None):\n",
        "    if (upload is not None) and upload.filename:\n",
        "        in_memory_file = BytesIO()\n",
        "        upload.save(in_memory_file)\n",
        "        img = Image.open(in_memory_file)\n",
        "        return img\n",
        "\n",
        "    elif url is not None:\n",
        "        response = requests.get(url)\n",
        "        img = Image.open(BytesIO(response.content))\n",
        "        return img\n",
        "\n",
        "    else:\n",
        "        raise NameError('Invalid file/url')\n",
        "\n",
        "def to_base64(img):\n",
        "    buffered = BytesIO()\n",
        "    img.save(buffered, format=\"JPEG\")\n",
        "    return base64.b64encode(buffered.getvalue()).decode('ascii')\n",
        "\n",
        "# Transform input into the form our model expects\n",
        "def transform_image(pil_image):\n",
        "    input_transforms = [\n",
        "        transforms.Resize(255),           # We use multiple TorchVision transforms to ready the image\n",
        "        transforms.CenterCrop(224),\n",
        "        transforms.ToTensor(),\n",
        "        transforms.Normalize(\n",
        "            [0.485, 0.456, 0.406],       # Standard normalization for ImageNet model input\n",
        "            [0.229, 0.224, 0.225]\n",
        "        )\n",
        "    ]\n",
        "    my_transforms = transforms.Compose(input_transforms)\n",
        "    timg = my_transforms(pil_image)                       # Transform PIL image to appropriately-shaped PyTorch tensor\n",
        "    timg.unsqueeze_(0)                                    # PyTorch models expect batched input; create a batch of 1\n",
        "    return timg\n",
        "\n",
        "leafsnap_transform_image = transforms.Compose([\n",
        "  transforms.Resize((224,224)),\n",
        "  transforms.ToTensor()\n",
        "])\n",
        "\n",
        "def get_topk(model, input_tensor, k=5):\n",
        "    outputs = model(input_tensor)                 # Get likelihoods for all ImageNet classes\n",
        "    values, indices = torch.topk(outputs, k)              # Extract top k most likely classes\n",
        "    values = values.data.cpu().numpy()[0]\n",
        "    indices = indices.data.cpu().numpy()[0]\n",
        "    return values, indices\n",
        "\n",
        "resnet50_imagenet_model = models.resnet50(pretrained=True)\n",
        "resnet50_imagenet_model.eval()\n",
        "img_class_map = None\n",
        "mapping_file_path = 'index_to_name.json'                  # Human-readable names for Imagenet classes\n",
        "if os.path.isfile(mapping_file_path):\n",
        "    with open (mapping_file_path) as f:\n",
        "        img_class_map = json.load(f)\n",
        "\n",
        "device = 'cpu' #We don't need to bother with the GPU when testing the trained model on small sets of images\n",
        "your_net = pnet.YourNetwork() # A special argument I added to your network --Ryen\n",
        "net_weights, _ = torch.load('./models/your_model/your_model_49.pth',map_location=device) # The second return value is the optimizer weights, which we don't need now\n",
        "your_net.load_state_dict(net_weights)\n",
        "your_net.eval()\n",
        "leaf_species_name_mapping = ClassLoader()\n",
        "downsize = transforms.Resize(100)\n",
        "\n",
        "# Student image transforms\n",
        "from Anu import Anu_function\n",
        "from shubham import shubham_function\n",
        "from emily import emily_function\n",
        "from portia import portiaImP\n",
        "from kemka import kemka_function\n",
        "from Unity import Univty_function\n",
        "\n",
        "# Need to return a list of dictionaries with keys 'model', 'label', 'score', 'image'\n",
        "# Ryen will write this function and get back to you\n",
        "def collect_outputs(input_pil_image):\n",
        "  resnet50_im = transform_image(input_pil_image)\n",
        "  your_net_im = leafsnap_transform_image(input_pil_image).unsqueeze(0)\n",
        "\n",
        "  r50_vals, r50_inds = get_topk(resnet50_imagenet_model, resnet50_im, 5)\n",
        "  your_vals, your_inds = get_topk(your_net, your_net_im, 5)\n",
        "\n",
        "  image_net_results = []\n",
        "  for value, idx in zip(r50_vals, r50_inds):\n",
        "    image_net_results.append({\n",
        "        \"model\": \"ImageNet Resnet50 Pretrained\",\n",
        "        \"category\": img_class_map.get(str(idx), \"Unknown\")[1],\n",
        "        \"score\": str(value),\n",
        "        \"image\": None\n",
        "    })\n",
        "\n",
        "  your_net_results = []\n",
        "  for value, idx in zip(your_vals, your_inds):\n",
        "    species_name = leaf_species_name_mapping.ind2str(idx)\n",
        "    species_dir = os.path.join('./data/leafsnap/dataset/images/field/',species_name)\n",
        "    species_file = os.listdir(species_dir)[0]\n",
        "    species_file = os.path.join(species_dir, species_file)\n",
        "    your_net_results.append({\n",
        "        \"model\": \"Your Network Trained on Leafsnap\",\n",
        "        \"category\": species_name,\n",
        "        \"score\": str(value),\n",
        "        \"image\": to_base64(downsize(Image.open(species_file)))\n",
        "    })\n",
        "\n",
        "  # In place of \"None\", write\n",
        "  #  to_base64( downsize( student_transform( img ) ) )\n",
        "  #  student_transform must take a PIL image and return a PIL image\n",
        "\n",
        "\n",
        "  student_image_transforms = [\n",
        "    {\n",
        "      \"model\": \"Shubham\",\n",
        "      \"category\": '-',\n",
        "      \"score\": '-',\n",
        "      \"image\": to_base64( downsize( shubham_function( input_pil_image ) ) ) \n",
        "    },\n",
        "    {\n",
        "      \"model\": \"Portia\",\n",
        "      \"category\": '-',\n",
        "      \"score\": '-',\n",
        "      \"image\": to_base64( downsize( portiaImP( input_pil_image ) ) )  \n",
        "    },\n",
        "    {\n",
        "      \"model\": \"Kemka\",\n",
        "      \"category\": '-',\n",
        "      \"score\": '-',\n",
        "      \"image\": to_base64( downsize( kemka_function( input_pil_image ) ) )     \n",
        "    },\n",
        "    {\n",
        "      \"model\": \"Emily\",\n",
        "      \"category\": '-',\n",
        "      \"score\": '-',\n",
        "      \"image\": to_base64( downsize( emily_function( input_pil_image ) ) ) # Fill this in    \n",
        "    },\n",
        "    {\n",
        "      \"model\": \"Unity\",\n",
        "      \"category\": '-',\n",
        "      \"score\": '-',\n",
        "      \"image\": to_base64( downsize( Unity_function( input_pil_image ) ) )      \n",
        "    },\n",
        "    {\n",
        "      \"model\": \"Anu\",\n",
        "      \"category\": '-',\n",
        "      \"score\": '-',\n",
        "      \"image\": to_base64( downsize( Anu_function( input_pil_image ) ) )      \n",
        "    },\n",
        "  ]\n",
        "\n",
        "  all_results = image_net_results + your_net_results + student_image_transforms\n",
        "\n",
        "  return all_results\n"
      ],
      "execution_count": 8,
      "outputs": [
        {
          "output_type": "error",
          "ename": "FileNotFoundError",
          "evalue": "ignored",
          "traceback": [
            "\u001b[0;31m---------------------------------------------------------------------------\u001b[0m",
            "\u001b[0;31mFileNotFoundError\u001b[0m                         Traceback (most recent call last)",
            "\u001b[0;32m<ipython-input-8-7a0b666e3f24>\u001b[0m in \u001b[0;36m<module>\u001b[0;34m()\u001b[0m\n\u001b[1;32m     86\u001b[0m \u001b[0mdevice\u001b[0m \u001b[0;34m=\u001b[0m \u001b[0;34m'cpu'\u001b[0m \u001b[0;31m#We don't need to bother with the GPU when testing the trained model on small sets of images\u001b[0m\u001b[0;34m\u001b[0m\u001b[0;34m\u001b[0m\u001b[0m\n\u001b[1;32m     87\u001b[0m \u001b[0myour_net\u001b[0m \u001b[0;34m=\u001b[0m \u001b[0mpnet\u001b[0m\u001b[0;34m.\u001b[0m\u001b[0mYourNetwork\u001b[0m\u001b[0;34m(\u001b[0m\u001b[0;34m)\u001b[0m \u001b[0;31m# A special argument I added to your network --Ryen\u001b[0m\u001b[0;34m\u001b[0m\u001b[0;34m\u001b[0m\u001b[0m\n\u001b[0;32m---> 88\u001b[0;31m \u001b[0mnet_weights\u001b[0m\u001b[0;34m,\u001b[0m \u001b[0m_\u001b[0m \u001b[0;34m=\u001b[0m \u001b[0mtorch\u001b[0m\u001b[0;34m.\u001b[0m\u001b[0mload\u001b[0m\u001b[0;34m(\u001b[0m\u001b[0;34m'./models/your_model/your_model_49.pth'\u001b[0m\u001b[0;34m,\u001b[0m\u001b[0mmap_location\u001b[0m\u001b[0;34m=\u001b[0m\u001b[0mdevice\u001b[0m\u001b[0;34m)\u001b[0m \u001b[0;31m# The second return value is the optimizer weights, which we don't need now\u001b[0m\u001b[0;34m\u001b[0m\u001b[0;34m\u001b[0m\u001b[0m\n\u001b[0m\u001b[1;32m     89\u001b[0m \u001b[0myour_net\u001b[0m\u001b[0;34m.\u001b[0m\u001b[0mload_state_dict\u001b[0m\u001b[0;34m(\u001b[0m\u001b[0mnet_weights\u001b[0m\u001b[0;34m)\u001b[0m\u001b[0;34m\u001b[0m\u001b[0;34m\u001b[0m\u001b[0m\n\u001b[1;32m     90\u001b[0m \u001b[0myour_net\u001b[0m\u001b[0;34m.\u001b[0m\u001b[0meval\u001b[0m\u001b[0;34m(\u001b[0m\u001b[0;34m)\u001b[0m\u001b[0;34m\u001b[0m\u001b[0;34m\u001b[0m\u001b[0m\n",
            "\u001b[0;32m/usr/local/lib/python3.6/dist-packages/torch/serialization.py\u001b[0m in \u001b[0;36mload\u001b[0;34m(f, map_location, pickle_module, **pickle_load_args)\u001b[0m\n\u001b[1;32m    582\u001b[0m         \u001b[0mpickle_load_args\u001b[0m\u001b[0;34m[\u001b[0m\u001b[0;34m'encoding'\u001b[0m\u001b[0;34m]\u001b[0m \u001b[0;34m=\u001b[0m \u001b[0;34m'utf-8'\u001b[0m\u001b[0;34m\u001b[0m\u001b[0;34m\u001b[0m\u001b[0m\n\u001b[1;32m    583\u001b[0m \u001b[0;34m\u001b[0m\u001b[0m\n\u001b[0;32m--> 584\u001b[0;31m     \u001b[0;32mwith\u001b[0m \u001b[0m_open_file_like\u001b[0m\u001b[0;34m(\u001b[0m\u001b[0mf\u001b[0m\u001b[0;34m,\u001b[0m \u001b[0;34m'rb'\u001b[0m\u001b[0;34m)\u001b[0m \u001b[0;32mas\u001b[0m \u001b[0mopened_file\u001b[0m\u001b[0;34m:\u001b[0m\u001b[0;34m\u001b[0m\u001b[0;34m\u001b[0m\u001b[0m\n\u001b[0m\u001b[1;32m    585\u001b[0m         \u001b[0;32mif\u001b[0m \u001b[0m_is_zipfile\u001b[0m\u001b[0;34m(\u001b[0m\u001b[0mopened_file\u001b[0m\u001b[0;34m)\u001b[0m\u001b[0;34m:\u001b[0m\u001b[0;34m\u001b[0m\u001b[0;34m\u001b[0m\u001b[0m\n\u001b[1;32m    586\u001b[0m             \u001b[0;32mwith\u001b[0m \u001b[0m_open_zipfile_reader\u001b[0m\u001b[0;34m(\u001b[0m\u001b[0mf\u001b[0m\u001b[0;34m)\u001b[0m \u001b[0;32mas\u001b[0m \u001b[0mopened_zipfile\u001b[0m\u001b[0;34m:\u001b[0m\u001b[0;34m\u001b[0m\u001b[0;34m\u001b[0m\u001b[0m\n",
            "\u001b[0;32m/usr/local/lib/python3.6/dist-packages/torch/serialization.py\u001b[0m in \u001b[0;36m_open_file_like\u001b[0;34m(name_or_buffer, mode)\u001b[0m\n\u001b[1;32m    232\u001b[0m \u001b[0;32mdef\u001b[0m \u001b[0m_open_file_like\u001b[0m\u001b[0;34m(\u001b[0m\u001b[0mname_or_buffer\u001b[0m\u001b[0;34m,\u001b[0m \u001b[0mmode\u001b[0m\u001b[0;34m)\u001b[0m\u001b[0;34m:\u001b[0m\u001b[0;34m\u001b[0m\u001b[0;34m\u001b[0m\u001b[0m\n\u001b[1;32m    233\u001b[0m     \u001b[0;32mif\u001b[0m \u001b[0m_is_path\u001b[0m\u001b[0;34m(\u001b[0m\u001b[0mname_or_buffer\u001b[0m\u001b[0;34m)\u001b[0m\u001b[0;34m:\u001b[0m\u001b[0;34m\u001b[0m\u001b[0;34m\u001b[0m\u001b[0m\n\u001b[0;32m--> 234\u001b[0;31m         \u001b[0;32mreturn\u001b[0m \u001b[0m_open_file\u001b[0m\u001b[0;34m(\u001b[0m\u001b[0mname_or_buffer\u001b[0m\u001b[0;34m,\u001b[0m \u001b[0mmode\u001b[0m\u001b[0;34m)\u001b[0m\u001b[0;34m\u001b[0m\u001b[0;34m\u001b[0m\u001b[0m\n\u001b[0m\u001b[1;32m    235\u001b[0m     \u001b[0;32melse\u001b[0m\u001b[0;34m:\u001b[0m\u001b[0;34m\u001b[0m\u001b[0;34m\u001b[0m\u001b[0m\n\u001b[1;32m    236\u001b[0m         \u001b[0;32mif\u001b[0m \u001b[0;34m'w'\u001b[0m \u001b[0;32min\u001b[0m \u001b[0mmode\u001b[0m\u001b[0;34m:\u001b[0m\u001b[0;34m\u001b[0m\u001b[0;34m\u001b[0m\u001b[0m\n",
            "\u001b[0;32m/usr/local/lib/python3.6/dist-packages/torch/serialization.py\u001b[0m in \u001b[0;36m__init__\u001b[0;34m(self, name, mode)\u001b[0m\n\u001b[1;32m    213\u001b[0m \u001b[0;32mclass\u001b[0m \u001b[0m_open_file\u001b[0m\u001b[0;34m(\u001b[0m\u001b[0m_opener\u001b[0m\u001b[0;34m)\u001b[0m\u001b[0;34m:\u001b[0m\u001b[0;34m\u001b[0m\u001b[0;34m\u001b[0m\u001b[0m\n\u001b[1;32m    214\u001b[0m     \u001b[0;32mdef\u001b[0m \u001b[0m__init__\u001b[0m\u001b[0;34m(\u001b[0m\u001b[0mself\u001b[0m\u001b[0;34m,\u001b[0m \u001b[0mname\u001b[0m\u001b[0;34m,\u001b[0m \u001b[0mmode\u001b[0m\u001b[0;34m)\u001b[0m\u001b[0;34m:\u001b[0m\u001b[0;34m\u001b[0m\u001b[0;34m\u001b[0m\u001b[0m\n\u001b[0;32m--> 215\u001b[0;31m         \u001b[0msuper\u001b[0m\u001b[0;34m(\u001b[0m\u001b[0m_open_file\u001b[0m\u001b[0;34m,\u001b[0m \u001b[0mself\u001b[0m\u001b[0;34m)\u001b[0m\u001b[0;34m.\u001b[0m\u001b[0m__init__\u001b[0m\u001b[0;34m(\u001b[0m\u001b[0mopen\u001b[0m\u001b[0;34m(\u001b[0m\u001b[0mname\u001b[0m\u001b[0;34m,\u001b[0m \u001b[0mmode\u001b[0m\u001b[0;34m)\u001b[0m\u001b[0;34m)\u001b[0m\u001b[0;34m\u001b[0m\u001b[0;34m\u001b[0m\u001b[0m\n\u001b[0m\u001b[1;32m    216\u001b[0m \u001b[0;34m\u001b[0m\u001b[0m\n\u001b[1;32m    217\u001b[0m     \u001b[0;32mdef\u001b[0m \u001b[0m__exit__\u001b[0m\u001b[0;34m(\u001b[0m\u001b[0mself\u001b[0m\u001b[0;34m,\u001b[0m \u001b[0;34m*\u001b[0m\u001b[0margs\u001b[0m\u001b[0;34m)\u001b[0m\u001b[0;34m:\u001b[0m\u001b[0;34m\u001b[0m\u001b[0;34m\u001b[0m\u001b[0m\n",
            "\u001b[0;31mFileNotFoundError\u001b[0m: [Errno 2] No such file or directory: './models/your_model/your_model_49.pth'"
          ]
        }
      ]
    },
    {
      "cell_type": "code",
      "metadata": {
        "id": "M0CTF5t91qvH",
        "colab_type": "code",
        "colab": {}
      },
      "source": [
        "@app.route('/', methods=['GET'])\n",
        "def root():\n",
        "    return render_template('index.html')\n",
        "\n",
        "\n",
        "@app.route('/predict', methods=['GET', 'POST'])\n",
        "def predict():\n",
        "    if request.method == 'GET':\n",
        "        try:\n",
        "            url = request.args.get('q')\n",
        "            app.logger.debug('url provided - %s', url)\n",
        "            input_tensor = transform_image(read_file(url=url))\n",
        "            values, indices = get_topk(input_tensor)\n",
        "            results = render_prediction(values, indices)\n",
        "            return jsonify(results=results)\n",
        "\n",
        "        except:\n",
        "            app.logger.debug(\"Error: %s\", traceback.print_exc())\n",
        "            return jsonify(\"invalid image url\")\n",
        "\n",
        "    elif request.method == 'POST':\n",
        "        try:\n",
        "            file = request.files['file']\n",
        "            app.logger.debug('file uploaded - %s', file)\n",
        "            url = request.form.get(\"url\", None)\n",
        "            app.logger.debug('url provided - %s', url)\n",
        "\n",
        "            input_pil_image = read_file(upload=file, url=url)\n",
        "            #values, indices = get_topk(input_tensor)\n",
        "            results = collect_outputs(input_pil_image)\n",
        "            return jsonify(results=results)\n",
        "\n",
        "        except:\n",
        "            app.logger.debug(\"Error: %s\", traceback.print_exc())\n",
        "            return jsonify(\"invalid image\")\n",
        "\n",
        "    else:\n",
        "        app.logger.debug(\"Error: %s\", traceback.print_exc())\n",
        "        return jsonify('invalid request')"
      ],
      "execution_count": null,
      "outputs": []
    },
    {
      "cell_type": "code",
      "metadata": {
        "id": "HBYtrC2Z1uZn",
        "colab_type": "code",
        "colab": {
          "base_uri": "https://localhost:8080/",
          "height": 256
        },
        "outputId": "267bba2a-d78d-44be-95fb-397c186c3916"
      },
      "source": [
        "run_with_ngrok(app)\n",
        "app.run()"
      ],
      "execution_count": null,
      "outputs": [
        {
          "output_type": "stream",
          "text": [
            " * Serving Flask app \"__main__\" (lazy loading)\n",
            " * Environment: production\n",
            "\u001b[31m   WARNING: This is a development server. Do not use it in a production deployment.\u001b[0m\n",
            "\u001b[2m   Use a production WSGI server instead.\u001b[0m\n",
            " * Debug mode: off\n"
          ],
          "name": "stdout"
        },
        {
          "output_type": "stream",
          "text": [
            " * Running on http://127.0.0.1:5000/ (Press CTRL+C to quit)\n"
          ],
          "name": "stderr"
        },
        {
          "output_type": "stream",
          "text": [
            " * Running on http://f096f1cd5d69.ngrok.io\n",
            " * Traffic stats available on http://127.0.0.1:4040\n"
          ],
          "name": "stdout"
        },
        {
          "output_type": "stream",
          "text": [
            "127.0.0.1 - - [30/Jul/2020 23:43:34] \"\u001b[37mGET / HTTP/1.1\u001b[0m\" 200 -\n",
            "127.0.0.1 - - [30/Jul/2020 23:43:34] \"\u001b[37mGET /static/main.css HTTP/1.1\u001b[0m\" 200 -\n",
            "127.0.0.1 - - [30/Jul/2020 23:43:34] \"\u001b[37mGET /static/main.js HTTP/1.1\u001b[0m\" 200 -\n",
            "127.0.0.1 - - [30/Jul/2020 23:43:34] \"\u001b[33mGET /favicon.ico HTTP/1.1\u001b[0m\" 404 -\n",
            "127.0.0.1 - - [30/Jul/2020 23:43:41] \"\u001b[37mPOST /predict HTTP/1.1\u001b[0m\" 200 -\n"
          ],
          "name": "stderr"
        }
      ]
    },
    {
      "cell_type": "code",
      "metadata": {
        "id": "9-Sg7uwo8mfZ",
        "colab_type": "code",
        "colab": {}
      },
      "source": [
        ""
      ],
      "execution_count": null,
      "outputs": []
    }
  ]
}